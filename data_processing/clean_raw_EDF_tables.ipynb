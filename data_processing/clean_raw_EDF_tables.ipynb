{
 "cells": [
  {
   "cell_type": "code",
   "execution_count": 9,
   "metadata": {},
   "outputs": [
    {
     "name": "stdout",
     "output_type": "stream",
     "text": [
      "Requirement already satisfied: pandas in c:\\users\\nicol\\appdata\\local\\programs\\python\\python312\\lib\\site-packages (2.1.3)\n",
      "Requirement already satisfied: numpy<2,>=1.26.0 in c:\\users\\nicol\\appdata\\local\\programs\\python\\python312\\lib\\site-packages (from pandas) (1.26.0)\n",
      "Requirement already satisfied: python-dateutil>=2.8.2 in c:\\users\\nicol\\appdata\\local\\programs\\python\\python312\\lib\\site-packages (from pandas) (2.8.2)\n",
      "Requirement already satisfied: pytz>=2020.1 in c:\\users\\nicol\\appdata\\local\\programs\\python\\python312\\lib\\site-packages (from pandas) (2023.3.post1)\n",
      "Requirement already satisfied: tzdata>=2022.1 in c:\\users\\nicol\\appdata\\local\\programs\\python\\python312\\lib\\site-packages (from pandas) (2023.3)\n",
      "Requirement already satisfied: six>=1.5 in c:\\users\\nicol\\appdata\\local\\programs\\python\\python312\\lib\\site-packages (from python-dateutil>=2.8.2->pandas) (1.16.0)\n"
     ]
    },
    {
     "name": "stderr",
     "output_type": "stream",
     "text": [
      "\n",
      "[notice] A new release of pip is available: 23.2.1 -> 24.3.1\n",
      "[notice] To update, run: python.exe -m pip install --upgrade pip\n"
     ]
    }
   ],
   "source": [
    "!pip install pandas"
   ]
  },
  {
   "cell_type": "code",
   "execution_count": 17,
   "metadata": {},
   "outputs": [],
   "source": [
    "import pandas as pd\n",
    "import os"
   ]
  },
  {
   "cell_type": "code",
   "execution_count": 18,
   "metadata": {},
   "outputs": [],
   "source": [
    "# Load EDF raw tables\n",
    "\n",
    "raw_EDF_folder = \"../data/raw/EDF/\"\n",
    "\n",
    "dfs = {\n",
    "    \"remuneration\": pd.read_csv(raw_EDF_folder + \"bilan-social-d-edf-sa-remuneration-et-promotions.csv\", sep=\";\"),\n",
    "    \"formation\": pd.read_csv(raw_EDF_folder + \"bilan-social-d-edf-sa-formation.csv\", sep=\";\"),\n",
    "    \"droit\": pd.read_csv(raw_EDF_folder + \"bilan-social-d-edf-sa-droit-du-travail.csv\", sep=\";\"),\n",
    "    \"condition\": pd.read_csv(raw_EDF_folder + \"bilan-social-d-edf-sa-autres-conditions-de-travail.csv\", sep=\";\"),\n",
    "    \"absenteisme\": pd.read_csv(raw_EDF_folder + \"bilan-social-d-edf-sa-absenteisme.csv\", sep=\";\"),\n",
    "    \"effectif\": pd.read_csv(raw_EDF_folder + \"bilan-social-d-edf-sa-effectifs-et-repartition-par-age-statut-et-sexe.csv\", sep=\";\"),\n",
    "    \"handicap\": pd.read_csv(raw_EDF_folder + \"bilan-social-d-edf-sa-salaries-en-situation-de-handicap.csv\", sep=\";\"),\n",
    "    \"exterieur\": pd.read_csv(raw_EDF_folder + \"bilan-social-d-edf-sa-travailleurs-exterieurs.csv\", sep=\";\")\n",
    "}"
   ]
  },
  {
   "cell_type": "code",
   "execution_count": 19,
   "metadata": {},
   "outputs": [],
   "source": [
    "# Mapping df and cols to drop\n",
    "\n",
    "mapping_cols_to_drop = {\n",
    "    \"remuneration\": [\"Spatial perimeter\", \"Indicator\", \"Type of contract\", \"Employee category\", \n",
    "                     \"M3E classification\", \"Gender\", \"Unit\"],\n",
    "    \"formation\": [\"Spatial perimeter\", \"Indicator\", \"Employee category\", \n",
    "                  \"M3E classification\", \"Gender\", \"Unit\"],\n",
    "    \"droit\": [\"Spatial perimeter\", \"Indicator\", \"Type of legal action\", \"Unit\"],\n",
    "    \"condition\": [\"Spatial perimeter\", \"Indicator\", \"Type of contract\", \"Time range\",\n",
    "                  \"Employee category\", \"Gender\", \"Unit\"],\n",
    "    \"absenteisme\": [\"Spatial perimeter\", \"Indicator\", \"Type of contract\", \n",
    "                    \"Employee category\", \"Gender\", \"Unit\"],\n",
    "    \"effectif\": ['Spatial perimeter','Indicator', 'Type of contract', 'Employee category', \n",
    "                 'Employee subcategory', 'Gender', 'M3E classification','Nationality', \n",
    "                 'Seniority', 'Age bracket', 'Unit'],\n",
    "    \"handicap\": ['Spatial perimeter','Indicator', 'Type of contract', \n",
    "                 'Employee category', 'Gender', 'Unit'],\n",
    "    \"exterieur\": ['Spatial perimeter','Indicator', \n",
    "                  'Employee category', 'Gender', 'Unit']\n",
    "}\n",
    "\n"
   ]
  },
  {
   "cell_type": "code",
   "execution_count": 20,
   "metadata": {},
   "outputs": [],
   "source": [
    "def drop_columns(dfs, mapping_cols_to_drop):\n",
    "    \"\"\"\n",
    "    Supprime les colonnes listées dans mapping_cols_to_drop pour chaque df\n",
    "    args:\n",
    "        dfs (dict): dictionnaire contenant les df\n",
    "        mapping_cols_to_drop (dict): dictionnaire qui associe les colonnes à supprimer pour chaque df\n",
    "\n",
    "    return:\n",
    "        dict: dictionnaire des dfs avec les colonnes supprimées\n",
    "    \"\"\"\n",
    "    for df_name, df in dfs.items():\n",
    "        cols_to_drop = mapping_cols_to_drop[df_name]\n",
    "        dfs[df_name] = df.drop(columns=cols_to_drop)\n",
    "        \n",
    "    return dfs "
   ]
  },
  {
   "cell_type": "code",
   "execution_count": 21,
   "metadata": {},
   "outputs": [],
   "source": [
    "dfs_cleaned = drop_columns(dfs, mapping_cols_to_drop)"
   ]
  },
  {
   "cell_type": "code",
   "execution_count": 22,
   "metadata": {},
   "outputs": [],
   "source": [
    "def upload_dfs(dfs, output_folder):\n",
    "\n",
    "    for df_name, df in dfs.items():\n",
    "        output_path = os.path.join(output_folder, f\"{df_name}.csv\")\n",
    "        df.to_csv(output_path, index=False, sep=\";\")"
   ]
  },
  {
   "cell_type": "code",
   "execution_count": 24,
   "metadata": {},
   "outputs": [],
   "source": [
    "cleaned_EDF_folder = \"../data/cleaned/EDF/\"\n",
    "\n",
    "upload_dfs(dfs_cleaned, cleaned_EDF_folder)"
   ]
  }
 ],
 "metadata": {
  "kernelspec": {
   "display_name": "Python 3",
   "language": "python",
   "name": "python3"
  },
  "language_info": {
   "codemirror_mode": {
    "name": "ipython",
    "version": 3
   },
   "file_extension": ".py",
   "mimetype": "text/x-python",
   "name": "python",
   "nbconvert_exporter": "python",
   "pygments_lexer": "ipython3",
   "version": "3.12.0"
  }
 },
 "nbformat": 4,
 "nbformat_minor": 2
}
